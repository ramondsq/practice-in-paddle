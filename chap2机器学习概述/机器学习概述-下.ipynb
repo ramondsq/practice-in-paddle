{
 "cells": [
  {
   "attachments": {},
   "cell_type": "markdown",
   "metadata": {
    "collapsed": false
   },
   "source": [
    "# 2.4 Runner类介绍\n",
    "\n",
    "通过上面的实践，我们可以看到，在一个任务上应用机器学习方法的流程基本上包括：数据集构建、模型构建、损失函数定义、优化器、模型训练、模型评价、模型预测等环节。\n",
    "\n",
    "为了更方便地将上述环节规范化，我们将机器学习模型的基本要素封装成一个**Runner**类。除上述提到的要素外，再加上模型保存、模型加载等功能。\n",
    "\n",
    "**Runner**类的成员函数定义如下：\n",
    "* \\_\\_init\\_\\_函数：实例化**Runner**类时默认调用，需要传入模型、损失函数、优化器和评价指标等；\n",
    "* train函数：完成模型训练，指定模型训练需要的训练集和验证集；\n",
    "* evaluate函数：通过对训练好的模型进行评价，在验证集或测试集上查看模型训练效果；\n",
    "* predict函数：选取一条数据对训练好的模型进行预测；\n",
    "* save\\_model函数：模型在训练过程和训练结束后需要进行保存；\n",
    "* load\\_model函数：调用加载之前保存的模型。\n",
    "\n",
    "`Runner`类的框架定义如下："
   ]
  },
  {
   "cell_type": "code",
   "execution_count": 3,
   "metadata": {
    "collapsed": false
   },
   "outputs": [],
   "source": [
    "class Runner(object):\n",
    "    def __init__(self, model, optimizer, loss_fn, metric):\n",
    "        self.model = model         # 模型\n",
    "        self.optimizer = optimizer # 优化器\n",
    "        self.loss_fn = loss_fn     # 损失函数   \n",
    "        self.metric = metric       # 评估指标\n",
    "\n",
    "    # 模型训练\n",
    "    def train(self, train_dataset, dev_dataset=None, **kwargs):\n",
    "        pass\n",
    "\n",
    "    # 模型评价\n",
    "    def evaluate(self, data_set, **kwargs):\n",
    "        pass\n",
    "\n",
    "    # 模型预测\n",
    "    def predict(self, x, **kwargs):\n",
    "        pass\n",
    "\n",
    "    # 模型保存\n",
    "    def save_model(self, save_path):\n",
    "        pass\n",
    "\n",
    "    # 模型加载\n",
    "    def load_model(self, model_path):\n",
    "        pass"
   ]
  },
  {
   "attachments": {},
   "cell_type": "markdown",
   "metadata": {
    "collapsed": false
   },
   "source": [
    "**Runner**类的流程如**图2.8**所示，可以分为 4 个阶段：\n",
    "1. 初始化阶段：传入模型、损失函数、优化器和评价指标。\n",
    "1. 模型训练阶段：基于训练集调用`train()`函数训练模型，基于验证集通过`evaluate()`函数验证模型。通过`save_model()`函数保存模型。\n",
    "1. 模型评价阶段：基于测试集通过`evaluate()`函数得到指标性能。\n",
    "1. 模型预测阶段：给定样本，通过`predict()`函数得到该样本标签。\n",
    "\n",
    "<center><img src=\"https://ai-studio-static-online.cdn.bcebos.com/fdb656daadb349a78560fa464b0de5fa5d63423fc2234adfac48e6ff020a6d60\" width=700 ></img></center>\n",
    "\n",
    "<center>图2.8 Runner类</center>\n"
   ]
  },
  {
   "attachments": {},
   "cell_type": "markdown",
   "metadata": {
    "collapsed": false
   },
   "source": [
    "# 2.5 基于线性回归的波士顿房价预测  \n",
    "\n",
    "在本节中，我们使用线性回归来对马萨诸塞州波士顿郊区的房屋进行预测。实验流程主要包含如下5个步骤：\n",
    "* 数据处理：包括数据清洗（缺失值和异常值处理）、数据集划分，以便数据可以被模型正常读取，并具有良好的泛化性;\n",
    "* 模型构建：定义线性回归模型类；\n",
    "* 训练配置:训练相关的一些配置，如：优化算法、评价指标等；\n",
    "* 组装训练框架Runner:`Runner`用于管理模型训练和测试过程；\n",
    "* 模型训练和测试:利用`Runner`进行模型训练和测试。\n"
   ]
  },
  {
   "attachments": {},
   "cell_type": "markdown",
   "metadata": {
    "collapsed": false
   },
   "source": [
    "## 2.5.1 数据处理\n",
    "\n",
    "### 2.5.1.1 数据集介绍\n",
    "\n",
    "本实验使用波士顿房价预测数据集，共506条样本数据，每条样本包含了12种可能影响房价的因素和该类房屋价格的中位数，各字段含义如**表2.1**所示： \n",
    "\n",
    "<center>\n",
    "  \n",
    "| 字段名   | 类型 | 含义  |\n",
    "| -------- | -------- | -------- | \n",
    "| CRIM\t| float | 该镇的人均犯罪率 |\n",
    "| ZN\t| float |占地面积超过25,000平方呎的住宅用地比例|\n",
    "| INDUS\t| float |非零售商业用地比例|\n",
    "| CHAS\t| int   |是否邻近 Charles River 1=邻近；0=不邻近|\n",
    "| NOX\t| float |一氧化氮浓度  | \n",
    "| RM\t| float |每栋房屋的平均客房数 |\n",
    "| AGE\t| float |1940年之前建成的自用单位比例 |\n",
    "| DIS\t| float |到波士顿5个就业中心的加权距离 |\n",
    "| RAD\t| int   |到径向公路的可达性指数 |\n",
    "| TAX\t| int   |全值财产税率  |\n",
    "| PTRATIO|float | 学生与教师的比例 |\n",
    "| LSTAT\t| float |低收入人群占比 |\n",
    "| MEDV\t| float |同类房屋价格的中位数 |\n",
    "  \n",
    "  </center>\n",
    "  <center>表2.1 波士顿房价字段含义</center>\n",
    "  \n",
    "  预览前5条数据，代码实现如下："
   ]
  },
  {
   "cell_type": "code",
   "execution_count": 4,
   "metadata": {
    "collapsed": false
   },
   "outputs": [
    {
     "data": {
      "text/html": [
       "<div>\n",
       "<style scoped>\n",
       "    .dataframe tbody tr th:only-of-type {\n",
       "        vertical-align: middle;\n",
       "    }\n",
       "\n",
       "    .dataframe tbody tr th {\n",
       "        vertical-align: top;\n",
       "    }\n",
       "\n",
       "    .dataframe thead th {\n",
       "        text-align: right;\n",
       "    }\n",
       "</style>\n",
       "<table border=\"1\" class=\"dataframe\">\n",
       "  <thead>\n",
       "    <tr style=\"text-align: right;\">\n",
       "      <th></th>\n",
       "      <th>CRIM</th>\n",
       "      <th>ZN</th>\n",
       "      <th>INDUS</th>\n",
       "      <th>CHAS</th>\n",
       "      <th>NOX</th>\n",
       "      <th>RM</th>\n",
       "      <th>AGE</th>\n",
       "      <th>DIS</th>\n",
       "      <th>RAD</th>\n",
       "      <th>TAX</th>\n",
       "      <th>PTRATIO</th>\n",
       "      <th>LSTAT</th>\n",
       "      <th>MEDV</th>\n",
       "    </tr>\n",
       "  </thead>\n",
       "  <tbody>\n",
       "    <tr>\n",
       "      <th>0</th>\n",
       "      <td>0.00632</td>\n",
       "      <td>18.0</td>\n",
       "      <td>2.31</td>\n",
       "      <td>0</td>\n",
       "      <td>0.538</td>\n",
       "      <td>6.575</td>\n",
       "      <td>65.2</td>\n",
       "      <td>4.0900</td>\n",
       "      <td>1</td>\n",
       "      <td>296</td>\n",
       "      <td>15.3</td>\n",
       "      <td>4.98</td>\n",
       "      <td>24.0</td>\n",
       "    </tr>\n",
       "    <tr>\n",
       "      <th>1</th>\n",
       "      <td>0.02731</td>\n",
       "      <td>0.0</td>\n",
       "      <td>7.07</td>\n",
       "      <td>0</td>\n",
       "      <td>0.469</td>\n",
       "      <td>6.421</td>\n",
       "      <td>78.9</td>\n",
       "      <td>4.9671</td>\n",
       "      <td>2</td>\n",
       "      <td>242</td>\n",
       "      <td>17.8</td>\n",
       "      <td>9.14</td>\n",
       "      <td>21.6</td>\n",
       "    </tr>\n",
       "    <tr>\n",
       "      <th>2</th>\n",
       "      <td>0.02729</td>\n",
       "      <td>0.0</td>\n",
       "      <td>7.07</td>\n",
       "      <td>0</td>\n",
       "      <td>0.469</td>\n",
       "      <td>7.185</td>\n",
       "      <td>61.1</td>\n",
       "      <td>4.9671</td>\n",
       "      <td>2</td>\n",
       "      <td>242</td>\n",
       "      <td>17.8</td>\n",
       "      <td>4.03</td>\n",
       "      <td>34.7</td>\n",
       "    </tr>\n",
       "    <tr>\n",
       "      <th>3</th>\n",
       "      <td>0.03237</td>\n",
       "      <td>0.0</td>\n",
       "      <td>2.18</td>\n",
       "      <td>0</td>\n",
       "      <td>0.458</td>\n",
       "      <td>6.998</td>\n",
       "      <td>45.8</td>\n",
       "      <td>6.0622</td>\n",
       "      <td>3</td>\n",
       "      <td>222</td>\n",
       "      <td>18.7</td>\n",
       "      <td>2.94</td>\n",
       "      <td>33.4</td>\n",
       "    </tr>\n",
       "    <tr>\n",
       "      <th>4</th>\n",
       "      <td>0.06905</td>\n",
       "      <td>0.0</td>\n",
       "      <td>2.18</td>\n",
       "      <td>0</td>\n",
       "      <td>0.458</td>\n",
       "      <td>7.147</td>\n",
       "      <td>54.2</td>\n",
       "      <td>6.0622</td>\n",
       "      <td>3</td>\n",
       "      <td>222</td>\n",
       "      <td>18.7</td>\n",
       "      <td>5.33</td>\n",
       "      <td>36.2</td>\n",
       "    </tr>\n",
       "  </tbody>\n",
       "</table>\n",
       "</div>"
      ],
      "text/plain": [
       "      CRIM    ZN  INDUS  CHAS    NOX     RM   AGE     DIS  RAD  TAX  PTRATIO  \\\n",
       "0  0.00632  18.0   2.31     0  0.538  6.575  65.2  4.0900    1  296     15.3   \n",
       "1  0.02731   0.0   7.07     0  0.469  6.421  78.9  4.9671    2  242     17.8   \n",
       "2  0.02729   0.0   7.07     0  0.469  7.185  61.1  4.9671    2  242     17.8   \n",
       "3  0.03237   0.0   2.18     0  0.458  6.998  45.8  6.0622    3  222     18.7   \n",
       "4  0.06905   0.0   2.18     0  0.458  7.147  54.2  6.0622    3  222     18.7   \n",
       "\n",
       "   LSTAT  MEDV  \n",
       "0   4.98  24.0  \n",
       "1   9.14  21.6  \n",
       "2   4.03  34.7  \n",
       "3   2.94  33.4  \n",
       "4   5.33  36.2  "
      ]
     },
     "execution_count": 4,
     "metadata": {},
     "output_type": "execute_result"
    }
   ],
   "source": [
    "import pandas as pd # 开源数据分析和操作工具\n",
    "\n",
    "# 利用pandas加载波士顿房价的数据集\n",
    "data=pd.read_csv(\"./boston_house_prices.csv\")\n",
    "# 预览前5行数据\n",
    "data.head()"
   ]
  },
  {
   "attachments": {},
   "cell_type": "markdown",
   "metadata": {
    "collapsed": false
   },
   "source": [
    "### 2.5.1.2  数据清洗 \n",
    "\n",
    "对数据集中的缺失值或异常值等情况进行分析和处理，保证数据可以被模型正常读取。"
   ]
  },
  {
   "attachments": {},
   "cell_type": "markdown",
   "metadata": {
    "collapsed": false
   },
   "source": [
    "* **缺失值分析**  \n",
    "\n",
    "通过`isna()`方法判断数据中各元素是否缺失，然后通过`sum()`方法统计每个字段缺失情况，代码实现如下："
   ]
  },
  {
   "cell_type": "code",
   "execution_count": 5,
   "metadata": {
    "collapsed": false
   },
   "outputs": [
    {
     "data": {
      "text/plain": [
       "CRIM       0\n",
       "ZN         0\n",
       "INDUS      0\n",
       "CHAS       0\n",
       "NOX        0\n",
       "RM         0\n",
       "AGE        0\n",
       "DIS        0\n",
       "RAD        0\n",
       "TAX        0\n",
       "PTRATIO    0\n",
       "LSTAT      0\n",
       "MEDV       0\n",
       "dtype: int64"
      ]
     },
     "execution_count": 5,
     "metadata": {},
     "output_type": "execute_result"
    }
   ],
   "source": [
    "# 查看各字段缺失值统计情况\n",
    "data.isna().sum()"
   ]
  },
  {
   "attachments": {},
   "cell_type": "markdown",
   "metadata": {
    "collapsed": false
   },
   "source": [
    "从输出结果看，波士顿房价预测数据集中不存在缺失值的情况。"
   ]
  },
  {
   "attachments": {},
   "cell_type": "markdown",
   "metadata": {
    "collapsed": false
   },
   "source": [
    "* **异常值处理**\n",
    "\n",
    "通过箱线图直观的显示数据分布，并观测数据中的异常值。箱线图一般由五个统计值组成：最大值、上四分位、中位数、下四分位和最小值。一般来说，观测到的数据大于最大估计值或者小于最小估计值则判断为异常值，其中\n",
    "$$\n",
    "最大估计值 = 上四分位 + 1.5 * (上四分位 - 下四分位)\\\\\n",
    "最小估计值=下四分位 - 1.5 * (上四分位 - 下四分位)\n",
    "$$"
   ]
  },
  {
   "cell_type": "code",
   "execution_count": 6,
   "metadata": {
    "collapsed": false
   },
   "outputs": [
    {
     "data": {
      "image/png": "[encoded data removed]",
      "text/plain": [
       "<Figure size 1500x1500 with 13 Axes>"
      ]
     },
     "metadata": {
      "needs_background": "light"
     },
     "output_type": "display_data"
    }
   ],
   "source": [
    "import matplotlib.pyplot as plt # 可视化工具\n",
    "\n",
    "# 箱线图查看异常值分布\n",
    "def boxplot(data, fig_name):\n",
    "    # 绘制每个属性的箱线图\n",
    "    data_col = list(data.columns)\n",
    "    \n",
    "    # 连续画几个图片\n",
    "    plt.figure(figsize=(5, 5), dpi=300)\n",
    "    # 子图调整\n",
    "    plt.subplots_adjust(wspace=0.6)\n",
    "    # 每个特征画一个箱线图\n",
    "    for i, col_name in enumerate(data_col):\n",
    "        plt.subplot(3, 5, i+1)\n",
    "        # 画箱线图\n",
    "        plt.boxplot(data[col_name], \n",
    "                    showmeans=True, \n",
    "                    meanprops={\"markersize\":1,\"marker\":\"D\",\"markeredgecolor\":'#f19ec2'}, # 均值的属性\n",
    "                    medianprops={\"color\":'#e4007f'}, # 中位数线的属性\n",
    "                    whiskerprops={\"color\":'#e4007f', \"linewidth\":0.4, 'linestyle':\"--\"},\n",
    "                    flierprops={\"markersize\":0.4},\n",
    "                    ) \n",
    "        # 图名\n",
    "        plt.title(col_name, fontdict={\"size\":5}, pad=2)\n",
    "        # y方向刻度\n",
    "        plt.yticks(fontsize=4, rotation=90)\n",
    "        plt.tick_params(pad=0.5)\n",
    "        # x方向刻度\n",
    "        plt.xticks([])\n",
    "    plt.savefig(fig_name)\n",
    "    plt.show()\n",
    "\n",
    "boxplot(data, 'ml-vis5.pdf')"
   ]
  },
  {
   "attachments": {},
   "cell_type": "markdown",
   "metadata": {
    "collapsed": false
   },
   "source": [
    "**图2.4**是箱线图的一个示例，可对照查看具体含义。\n",
    "\n",
    "<center><img src=\"https://ai-studio-static-online.cdn.bcebos.com/242350bbd60d4afbbedc62bdc5579a54fa8e375d2481408d9be77069e578f39e\" width=700 ></img></center>\n",
    "<center>图2.4 箱线图示例</center>\n",
    "\n",
    "从输出结果看，数据中存在较多的异常值（图中上下边缘以外的空心小圆圈）。"
   ]
  },
  {
   "attachments": {},
   "cell_type": "markdown",
   "metadata": {
    "collapsed": false
   },
   "source": [
    "使用四分位值筛选出箱线图中分布的异常值，并将这些数据视为噪声，其将被临界值取代，代码实现如下："
   ]
  },
  {
   "cell_type": "code",
   "execution_count": 7,
   "metadata": {
    "collapsed": false
   },
   "outputs": [
    {
     "data": {
      "image/png": "[encoded data removed]",
      "text/plain": [
       "<Figure size 1500x1500 with 13 Axes>"
      ]
     },
     "metadata": {
      "needs_background": "light"
     },
     "output_type": "display_data"
    }
   ],
   "source": [
    "# 四分位处理异常值\n",
    "num_features=data.select_dtypes(exclude=['object','bool']).columns.tolist()\n",
    "\n",
    "for feature in num_features:\n",
    "    if feature =='CHAS':\n",
    "        continue\n",
    "    \n",
    "    Q1  = data[feature].quantile(q=0.25) # 下四分位\n",
    "    Q3  = data[feature].quantile(q=0.75) # 上四分位\n",
    "    \n",
    "    IQR = Q3-Q1 \n",
    "    top = Q3+1.5*IQR # 最大估计值\n",
    "    bot = Q1-1.5*IQR # 最小估计值\n",
    "    values=data[feature].values\n",
    "    values[values > top] = top # 临界值取代噪声\n",
    "    values[values < bot] = bot # 临界值取代噪声\n",
    "    data[feature] = values.astype(data[feature].dtypes)\n",
    "\n",
    "# 再次查看箱线图，异常值已被临界值替换（数据量较多或本身异常值较少时，箱线图展示会不容易体现出来）\n",
    "boxplot(data, 'ml-vis6.pdf')"
   ]
  },
  {
   "attachments": {},
   "cell_type": "markdown",
   "metadata": {
    "collapsed": false
   },
   "source": [
    "从输出结果看，经过异常值处理后，箱线图中异常值得到了改善。"
   ]
  },
  {
   "attachments": {},
   "cell_type": "markdown",
   "metadata": {
    "collapsed": false
   },
   "source": [
    "### 2.5.1.3 数据集划分 \n",
    "\n",
    "由于本实验比较简单，将数据集划分为两份：训练集和测试集，不包括验证集。\n",
    "\n",
    "具体代码如下："
   ]
  },
  {
   "cell_type": "code",
   "execution_count": 8,
   "metadata": {
    "collapsed": false
   },
   "outputs": [],
   "source": [
    "import paddle\n",
    "\n",
    "paddle.seed(10)\n",
    "\n",
    "# 划分训练集和测试集\n",
    "def train_test_split(X, y, train_percent=0.8):\n",
    "    n = len(X)\n",
    "    shuffled_indices = paddle.randperm(n) # 返回一个数值在0到n-1、随机排列的1-D Tensor\n",
    "    train_set_size = int(n*train_percent)\n",
    "    train_indices = shuffled_indices[:train_set_size]\n",
    "    test_indices = shuffled_indices[train_set_size:]\n",
    "\n",
    "    X = X.values\n",
    "    y = y.values\n",
    "\n",
    "    X_train=X[train_indices]\n",
    "    y_train = y[train_indices]\n",
    "    \n",
    "    X_test = X[test_indices]\n",
    "    y_test = y[test_indices]\n",
    "\n",
    "    return X_train, X_test, y_train, y_test \n",
    "\n",
    "\n",
    "X = data.drop(['MEDV'], axis=1)\n",
    "y = data['MEDV']\n",
    "\n",
    "X_train, X_test, y_train, y_test = train_test_split(X,y)# X_train每一行是个样本，shape[N,D]\n"
   ]
  },
  {
   "attachments": {},
   "cell_type": "markdown",
   "metadata": {
    "collapsed": false
   },
   "source": [
    "### 2.5.1.4 特征工程\n",
    "为了消除纲量对数据特征之间影响，在模型训练前，需要对特征数据进行归一化处理，将数据缩放到[0, 1]区间内，使得不同特征之间具有可比性。\n",
    "\n",
    "代码实现如下："
   ]
  },
  {
   "cell_type": "code",
   "execution_count": 9,
   "metadata": {
    "collapsed": false
   },
   "outputs": [],
   "source": [
    "import paddle\n",
    "\n",
    "X_train = paddle.to_tensor(X_train,dtype='float32')\n",
    "X_test = paddle.to_tensor(X_test,dtype='float32')\n",
    "y_train = paddle.to_tensor(y_train,dtype='float32')\n",
    "y_test = paddle.to_tensor(y_test,dtype='float32')\n",
    "\n",
    "X_min = paddle.min(X_train,axis=0)\n",
    "X_max = paddle.max(X_train,axis=0)\n",
    "\n",
    "X_train = (X_train-X_min)/(X_max-X_min)\n",
    "\n",
    "X_test  = (X_test-X_min)/(X_max-X_min)\n",
    "\n",
    "# 训练集构造\n",
    "train_dataset=(X_train,y_train)\n",
    "# 测试集构造\n",
    "test_dataset=(X_test,y_test)"
   ]
  },
  {
   "attachments": {},
   "cell_type": "markdown",
   "metadata": {
    "collapsed": false
   },
   "source": [
    "## 2.5.2 模型构建\n",
    "\n",
    "实例化一个线性回归模型，特征维度为 12:"
   ]
  },
  {
   "cell_type": "code",
   "execution_count": 10,
   "metadata": {
    "collapsed": false
   },
   "outputs": [],
   "source": [
    "from nndl.op import Linear\n",
    "\n",
    "# 模型实例化\n",
    "input_size = 12\n",
    "model=Linear(input_size)"
   ]
  },
  {
   "attachments": {},
   "cell_type": "markdown",
   "metadata": {
    "collapsed": false
   },
   "source": [
    "## 2.5.3 完善Runner类\n",
    "模型定义好后，围绕模型需要配置损失函数、优化器、评估、测试等信息，以及模型相关的一些其他信息（如模型存储路径等）。\n",
    "\n",
    "在本章中使用的**Runner**类为V1版本。其中训练过程通过直接求解解析解的方式得到模型参数，没有模型优化及计算损失函数过程，模型训练结束后保存模型参数。\n",
    "\n",
    "训练配置中定义:\n",
    "* 训练环境，如GPU还是CPU，本案例不涉及；\n",
    "* 优化器，本案例不涉及；\n",
    "* 损失函数，本案例通过平方损失函数得到模型参数的解析解；\n",
    "* 评估指标，本案例利用MSE评估模型效果。\n"
   ]
  },
  {
   "attachments": {},
   "cell_type": "markdown",
   "metadata": {
    "collapsed": false
   },
   "source": [
    "在测试集上使用MSE对模型性能进行评估。本案例利用飞桨框架提供的[MSELoss API](https://www.paddlepaddle.org.cn/documentation/docs/zh/api/paddle/nn/MSELoss_cn.html)实现。"
   ]
  },
  {
   "cell_type": "code",
   "execution_count": 11,
   "metadata": {
    "collapsed": false
   },
   "outputs": [],
   "source": [
    "import paddle.nn as nn\n",
    "mse_loss = nn.MSELoss()"
   ]
  },
  {
   "attachments": {},
   "cell_type": "markdown",
   "metadata": {
    "collapsed": false
   },
   "source": [
    "具体实现如下："
   ]
  },
  {
   "cell_type": "code",
   "execution_count": 12,
   "metadata": {
    "collapsed": false
   },
   "outputs": [],
   "source": [
    "import paddle\n",
    "import os\n",
    "from nndl.opitimizer import optimizer_lsm\n",
    "\n",
    "class Runner(object):\n",
    "    def __init__(self, model, optimizer, loss_fn, metric):\n",
    "        # 优化器和损失函数为None,不再关注\n",
    "\n",
    "        # 模型\n",
    "        self.model=model\n",
    "        # 评估指标\n",
    "        self.metric = metric\n",
    "        # 优化器\n",
    "        self.optimizer = optimizer\n",
    "    \n",
    "    def train(self,dataset,reg_lambda,model_dir):\n",
    "        X,y = dataset\n",
    "        self.optimizer(self.model,X,y,reg_lambda)\n",
    "\n",
    "        # 保存模型\n",
    "        self.save_model(model_dir)\n",
    "    \n",
    "    def evaluate(self, dataset, **kwargs):\n",
    "        X,y = dataset\n",
    "\n",
    "        y_pred = self.model(X)\n",
    "        result = self.metric(y_pred, y)\n",
    "\n",
    "        return result\n",
    "\n",
    "    def predict(self, X, **kwargs):\n",
    "        return self.model(X)\n",
    "    \n",
    "    def save_model(self, model_dir):\n",
    "        if not os.path.exists(model_dir):\n",
    "            os.makedirs(model_dir)\n",
    "        \n",
    "        params_saved_path = os.path.join(model_dir,'params.pdtensor')\n",
    "        paddle.save(model.params,params_saved_path)\n",
    "\n",
    "    def load_model(self, model_dir):\n",
    "        params_saved_path = os.path.join(model_dir,'params.pdtensor')\n",
    "        self.model.params=paddle.load(params_saved_path)\n",
    "\n",
    "optimizer = optimizer_lsm\n",
    "\n",
    "# 实例化Runner\n",
    "runner = Runner(model, optimizer=optimizer,loss_fn=None, metric=mse_loss)"
   ]
  },
  {
   "attachments": {},
   "cell_type": "markdown",
   "metadata": {
    "collapsed": false
   },
   "source": [
    "## 2.5.4 模型训练\n",
    "\n",
    "在组装完成`Runner`之后，我们将开始进行模型训练、评估和测试。首先，我们先实例化`Runner`，然后开始进行装配训练环境，接下来就可以开始训练了，相关代码如下："
   ]
  },
  {
   "cell_type": "code",
   "execution_count": 13,
   "metadata": {
    "collapsed": false
   },
   "outputs": [],
   "source": [
    "# 模型保存文件夹\n",
    "saved_dir = '/home/aistudio/work/models'\n",
    "\n",
    "# 启动训练\n",
    "runner.train(train_dataset,reg_lambda=0,model_dir=saved_dir)"
   ]
  },
  {
   "attachments": {},
   "cell_type": "markdown",
   "metadata": {
    "collapsed": false
   },
   "source": [
    "打印出训练得到的权重："
   ]
  },
  {
   "cell_type": "code",
   "execution_count": 14,
   "metadata": {
    "collapsed": false
   },
   "outputs": [
    {
     "name": "stdout",
     "output_type": "stream",
     "text": [
      "CRIM weight: -5.7056989669799805\n",
      "ZN weight: 1.180450677871704\n",
      "INDUS weight: -0.9549108147621155\n",
      "CHAS weight: 1.917398452758789\n",
      "NOX weight: -5.87213134765625\n",
      "RM weight: 9.139520645141602\n",
      "AGE weight: -0.6965242624282837\n",
      "DIS weight: -9.788663864135742\n",
      "RAD weight: 7.860557556152344\n",
      "TAX weight: -5.2367401123046875\n",
      "PTRATIO weight: -6.668805122375488\n",
      "LSTAT weight: -14.417865753173828\n",
      "b: 32.554203033447266\n"
     ]
    }
   ],
   "source": [
    "columns_list = data.columns.to_list()\n",
    "weights = runner.model.params['w'].tolist()\n",
    "b = runner.model.params['b'].item()\n",
    "\n",
    "for i in range(len(weights)):\n",
    "    print(columns_list[i],\"weight:\",weights[i])\n",
    "\n",
    "print(\"b:\",b)\n"
   ]
  },
  {
   "attachments": {},
   "cell_type": "markdown",
   "metadata": {
    "collapsed": false
   },
   "source": [
    "从输出结果看，CRIM、PTRATIO等的权重为负数，表示该镇的人均犯罪率与房价负相关，学生与教师比例越大，房价越低。RAD和CHAS等为正，表示到径向公路的可达性指数越高，房价越高；临近Charles River房价高。"
   ]
  },
  {
   "attachments": {},
   "cell_type": "markdown",
   "metadata": {
    "collapsed": false
   },
   "source": [
    "## 2.5.5 模型测试\n",
    "\n",
    "加载训练好的模型参数，在测试集上得到模型的MSE指标。"
   ]
  },
  {
   "cell_type": "code",
   "execution_count": 15,
   "metadata": {
    "collapsed": false
   },
   "outputs": [
    {
     "name": "stdout",
     "output_type": "stream",
     "text": [
      "MSE: 17.047901153564453\n"
     ]
    }
   ],
   "source": [
    "# 加载模型权重\n",
    "runner.load_model(saved_dir)\n",
    "\n",
    "mse = runner.evaluate(test_dataset)\n",
    "print('MSE:', mse.item())"
   ]
  },
  {
   "attachments": {},
   "cell_type": "markdown",
   "metadata": {
    "collapsed": false
   },
   "source": [
    "## 2.5.6 模型预测\n",
    "\n",
    "使用`Runner`中`load_model`函数加载保存好的模型，使用`predict`进行模型预测，代码实现如下："
   ]
  },
  {
   "cell_type": "code",
   "execution_count": 16,
   "metadata": {
    "collapsed": false
   },
   "outputs": [
    {
     "name": "stdout",
     "output_type": "stream",
     "text": [
      "真实房价： 21.399999618530273\n",
      "预测的房价： 24.058422088623047\n"
     ]
    }
   ],
   "source": [
    "runner.load_model(saved_dir)\n",
    "pred = runner.predict(X_test[:1])\n",
    "print(\"真实房价：\",y_test[:1].item())\n",
    "print(\"预测的房价：\",pred.item())"
   ]
  },
  {
   "attachments": {},
   "cell_type": "markdown",
   "metadata": {
    "collapsed": false
   },
   "source": [
    "从输出结果看，预测房价接近真实房价。"
   ]
  }
 ],
 "metadata": {
  "kernelspec": {
   "display_name": "paddle_env",
   "language": "python",
   "name": "python3"
  },
  "language_info": {
   "codemirror_mode": {
    "name": "ipython",
    "version": 3
   },
   "file_extension": ".py",
   "mimetype": "text/x-python",
   "name": "python",
   "nbconvert_exporter": "python",
   "pygments_lexer": "ipython3",
   "version": "3.6.13"
  }
 },
 "nbformat": 4,
 "nbformat_minor": 1
}
